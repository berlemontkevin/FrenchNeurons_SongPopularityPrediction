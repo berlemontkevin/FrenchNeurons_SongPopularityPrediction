{
 "cells": [
  {
   "cell_type": "code",
   "execution_count": 1,
   "metadata": {},
   "outputs": [],
   "source": [
    "import seaborn as sns\n",
    "import matplotlib.pyplot as plt\n",
    "import pandas as pd\n",
    "import numpy as np\n",
    "from sklearn.ensemble import RandomForestClassifier\n",
    "from sklearn.model_selection import train_test_split\n",
    "from sklearn.metrics import make_scorer, accuracy_score, roc_auc_score \n",
    "from sklearn.linear_model import Lasso, LogisticRegression\n",
    "from sklearn.feature_selection import SelectFromModel\n",
    "\n",
    "\n",
    "def rf_feat_importance(m, df):\n",
    "    return pd.DataFrame({'cols':df.columns, 'imp':m.feature_importances_}\n",
    "                       ).sort_values('imp', ascending=False)"
   ]
  },
  {
   "cell_type": "code",
   "execution_count": 8,
   "metadata": {},
   "outputs": [],
   "source": [
    "train = pd.read_csv('../raw_data/train.csv', index_col = 0)\n",
    "test = pd.read_csv('../raw_data/test.csv', index_col = 0)\n",
    "\n",
    "useful_cols = [col for col in train.columns if col not in ['id', 'song_popularity']]\n",
    "missing_cols = [col for col in train.columns if train[col].isna().sum() > 0]\n",
    "cols_dist_missing = [col for col in missing_cols if col not in ['key', 'audio_mode', 'time_signature']]\n",
    "cols_mode_missing = [col for col in missing_cols if col in ['key', 'audio_mode', 'time_signature']]\n",
    "\n",
    "# print(missing_cols)\n",
    "for col in cols_dist_missing:\n",
    "    # print(col)\n",
    "    train[col].fillna(train[col].median(), inplace = True)\n",
    "\n",
    "for col in cols_mode_missing:\n",
    "    # print(col)\n",
    "    train[col].fillna(train[col].mode()[0], inplace = True)\n",
    "\n",
    "X_train, X_valid, y_train, y_valid = train_test_split(train[useful_cols], train['song_popularity'], test_size=0.2, random_state=42)\n"
   ]
  },
  {
   "cell_type": "code",
   "execution_count": 9,
   "metadata": {},
   "outputs": [],
   "source": [
    "sel_ = SelectFromModel(LogisticRegression(C=1, penalty='l1', solver='liblinear'))"
   ]
  },
  {
   "cell_type": "code",
   "execution_count": 10,
   "metadata": {},
   "outputs": [
    {
     "data": {
      "text/plain": [
       "SelectFromModel(estimator=LogisticRegression(C=1, penalty='l1',\n",
       "                                             solver='liblinear'))"
      ]
     },
     "execution_count": 10,
     "metadata": {},
     "output_type": "execute_result"
    }
   ],
   "source": [
    "sel_.fit(X_train, y_train)"
   ]
  },
  {
   "cell_type": "code",
   "execution_count": 11,
   "metadata": {},
   "outputs": [
    {
     "data": {
      "text/plain": [
       "array([False,  True,  True,  True,  True,  True,  True,  True,  True,\n",
       "        True,  True,  True,  True])"
      ]
     },
     "execution_count": 11,
     "metadata": {},
     "output_type": "execute_result"
    }
   ],
   "source": [
    "sel_.get_support()"
   ]
  },
  {
   "cell_type": "code",
   "execution_count": 13,
   "metadata": {},
   "outputs": [
    {
     "name": "stdout",
     "output_type": "stream",
     "text": [
      "Index(['acousticness', 'danceability', 'energy', 'instrumentalness', 'key',\n",
      "       'liveness', 'loudness', 'audio_mode', 'speechiness', 'tempo',\n",
      "       'time_signature', 'audio_valence'],\n",
      "      dtype='object')\n"
     ]
    }
   ],
   "source": [
    "selected_features = X_train.columns[(sel_.get_support())]\n",
    "print(selected_features)"
   ]
  },
  {
   "cell_type": "code",
   "execution_count": 15,
   "metadata": {},
   "outputs": [
    {
     "name": "stdout",
     "output_type": "stream",
     "text": [
      "['song_duration_ms', 'song_popularity']\n"
     ]
    }
   ],
   "source": [
    "remove_cols = [col for col in train.columns if col not in selected_features]\n",
    "print(remove_cols)"
   ]
  },
  {
   "cell_type": "code",
   "execution_count": 16,
   "metadata": {},
   "outputs": [],
   "source": [
    "X_train_selected = sel_.transform(X_train)\n",
    "X_valid_selected = sel_.transform(X_valid)\n"
   ]
  },
  {
   "cell_type": "code",
   "execution_count": 20,
   "metadata": {},
   "outputs": [],
   "source": [
    "clf = RandomForestClassifier(n_estimators=100, min_samples_leaf = 10, random_state=42, class_weight='balanced_subsample')\n",
    "clf.fit(X_train_selected, y_train)\n",
    "\n",
    "y_pred = clf.predict(X_valid_selected)\n"
   ]
  },
  {
   "cell_type": "code",
   "execution_count": 21,
   "metadata": {},
   "outputs": [
    {
     "name": "stdout",
     "output_type": "stream",
     "text": [
      "AUC: 0.5369250089728831\n"
     ]
    }
   ],
   "source": [
    "LR_AUC = roc_auc_score(y_valid, clf.predict(X_valid_selected))\n",
    "print(\"AUC: \" + str(LR_AUC))"
   ]
  },
  {
   "cell_type": "code",
   "execution_count": null,
   "metadata": {},
   "outputs": [],
   "source": []
  }
 ],
 "metadata": {
  "interpreter": {
   "hash": "31f2aee4e71d21fbe5cf8b01ff0e069b9275f58929596ceb00d14d90e3e16cd6"
  },
  "kernelspec": {
   "display_name": "Python 3.8.10 64-bit",
   "language": "python",
   "name": "python3"
  },
  "language_info": {
   "codemirror_mode": {
    "name": "ipython",
    "version": 3
   },
   "file_extension": ".py",
   "mimetype": "text/x-python",
   "name": "python",
   "nbconvert_exporter": "python",
   "pygments_lexer": "ipython3",
   "version": "3.8.10"
  },
  "orig_nbformat": 4
 },
 "nbformat": 4,
 "nbformat_minor": 2
}
