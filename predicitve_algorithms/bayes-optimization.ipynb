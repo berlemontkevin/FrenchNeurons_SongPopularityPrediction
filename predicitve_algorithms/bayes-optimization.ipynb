{
 "cells": [
  {
   "cell_type": "code",
   "execution_count": 1,
   "metadata": {},
   "outputs": [],
   "source": [
    "import seaborn as sns\n",
    "import matplotlib.pyplot as plt\n",
    "import pandas as pd\n",
    "import numpy as np\n",
    "from sklearn.ensemble import RandomForestClassifier\n",
    "from sklearn.model_selection import train_test_split\n",
    "from sklearn.metrics import make_scorer, accuracy_score, roc_auc_score \n",
    "\n",
    "\n",
    "\n",
    "def rf_feat_importance(m, df):\n",
    "    return pd.DataFrame({'cols':df.columns, 'imp':m.feature_importances_}\n",
    "                       ).sort_values('imp', ascending=False)\n",
    "\n",
    "train = pd.read_csv('../raw_data/train.csv', index_col = 0)\n",
    "test = pd.read_csv('../raw_data/test.csv', index_col = 0)\n",
    "\n",
    "\n",
    "from sklearn.experimental import enable_iterative_imputer  # noqa\n",
    "from sklearn.impute import IterativeImputer\n",
    "\n",
    "it_imputer = IterativeImputer(max_iter=10)\n",
    "useful_cols = [col for col in train.columns if col not in ['id', 'song_popularity']]\n",
    "train_iterimp = it_imputer.fit_transform(train[useful_cols])\n",
    "test_iterimp = it_imputer.transform(test[useful_cols])\n",
    "\n",
    "df_train_iterimp = pd.DataFrame(train_iterimp, columns=useful_cols)\n",
    "\n",
    "X_train, X_valid, y_train, y_valid = train_test_split(df_train_iterimp, train['song_popularity'], test_size=0.2, random_state=42)"
   ]
  },
  {
   "cell_type": "markdown",
   "metadata": {},
   "source": [
    "bayes optimization of hyperparameters requires a dictionnary as input"
   ]
  },
  {
   "cell_type": "code",
   "execution_count": 11,
   "metadata": {},
   "outputs": [
    {
     "data": {
      "text/plain": [
       "BayesSearchCV(cv=5, estimator=RandomForestClassifier(), n_iter=32, n_jobs=5,\n",
       "              random_state=42, scoring='roc_auc',\n",
       "              search_spaces={'class_weight': ['balanced', None,\n",
       "                                              'balanced_subsample'],\n",
       "                             'max_depth': (1, 50),\n",
       "                             'max_features': ['auto', 'sqrt', 'log2'],\n",
       "                             'min_samples_leaf': (1, 30),\n",
       "                             'min_samples_split': (2, 20),\n",
       "                             'n_estimators': (100, 500)})"
      ]
     },
     "execution_count": 11,
     "metadata": {},
     "output_type": "execute_result"
    }
   ],
   "source": [
    "from skopt import BayesSearchCV\n",
    "\n",
    "param = {'n_estimators': (100, 500),\n",
    "         'max_features': ['auto', 'sqrt', 'log2'],\n",
    "         'max_depth': (1, 50),\n",
    "         'min_samples_split': (2, 20),\n",
    "         'min_samples_leaf': (1, 30),\n",
    "         'class_weight': ['balanced', None, 'balanced_subsample'],\n",
    "}\n",
    "\n",
    "\n",
    "opt = BayesSearchCV(RandomForestClassifier(), param, n_iter=32, cv=5, scoring='roc_auc', random_state=42, n_jobs = 5)\n",
    "\n",
    "opt.fit(X_train, y_train)"
   ]
  },
  {
   "cell_type": "code",
   "execution_count": 12,
   "metadata": {},
   "outputs": [
    {
     "data": {
      "text/plain": [
       "RandomForestClassifier(class_weight='balanced_subsample', max_depth=9,\n",
       "                       max_features='log2', min_samples_leaf=24,\n",
       "                       min_samples_split=11, n_estimators=138)"
      ]
     },
     "execution_count": 12,
     "metadata": {},
     "output_type": "execute_result"
    }
   ],
   "source": [
    "opt.best_estimator_"
   ]
  },
  {
   "cell_type": "code",
   "execution_count": 13,
   "metadata": {},
   "outputs": [
    {
     "name": "stdout",
     "output_type": "stream",
     "text": [
      "0.549625\n",
      "AUC: 0.5692439604244044\n"
     ]
    }
   ],
   "source": [
    "clf_bayes = opt.best_estimator_\n",
    "# clf_bayes = RandomForestClassifier(n_estimators=500, max_features='sqrt', max_depth=9, min_samples_split=19, min_samples_leaf=14, class_weight='balanced_subsample')\n",
    "clf_bayes.fit(X_train, y_train)\n",
    "print(clf_bayes.score(X_valid, y_valid))\n",
    "LR_AUC = roc_auc_score(y_valid, clf_bayes.predict_proba(X_valid)[:,1])\n",
    "print(\"AUC: \" + str(LR_AUC))"
   ]
  },
  {
   "cell_type": "code",
   "execution_count": 15,
   "metadata": {},
   "outputs": [],
   "source": [
    "submission = pd.read_csv('../raw_data/sample_submission.csv', index_col = 0)\n",
    "useful_cols = [col for col in train.columns if col not in ['id', 'song_popularity']]\n",
    "df_test = pd.DataFrame(test_iterimp, columns=useful_cols)\n",
    "submission['song_popularity'] = clf_bayes.predict_proba(df_test[useful_cols])[:,1]\n",
    "submission.head()\n",
    "submission.to_csv('../submissions/submission_rf_balanced_subsample_bayes_opti.csv')"
   ]
  },
  {
   "cell_type": "code",
   "execution_count": null,
   "metadata": {},
   "outputs": [],
   "source": []
  }
 ],
 "metadata": {
  "interpreter": {
   "hash": "31f2aee4e71d21fbe5cf8b01ff0e069b9275f58929596ceb00d14d90e3e16cd6"
  },
  "kernelspec": {
   "display_name": "Python 3.8.10 64-bit",
   "language": "python",
   "name": "python3"
  },
  "language_info": {
   "codemirror_mode": {
    "name": "ipython",
    "version": 3
   },
   "file_extension": ".py",
   "mimetype": "text/x-python",
   "name": "python",
   "nbconvert_exporter": "python",
   "pygments_lexer": "ipython3",
   "version": "3.8.10"
  },
  "orig_nbformat": 4
 },
 "nbformat": 4,
 "nbformat_minor": 2
}
