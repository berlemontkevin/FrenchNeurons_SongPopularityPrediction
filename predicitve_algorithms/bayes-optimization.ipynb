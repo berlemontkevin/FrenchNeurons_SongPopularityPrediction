{
 "cells": [
  {
   "cell_type": "code",
   "execution_count": 3,
   "metadata": {},
   "outputs": [],
   "source": [
    "import seaborn as sns\n",
    "import matplotlib.pyplot as plt\n",
    "import pandas as pd\n",
    "import numpy as np\n",
    "from sklearn.ensemble import RandomForestClassifier\n",
    "from sklearn.model_selection import train_test_split\n",
    "from sklearn.metrics import make_scorer, accuracy_score, roc_auc_score \n",
    "\n",
    "\n",
    "\n",
    "def rf_feat_importance(m, df):\n",
    "    return pd.DataFrame({'cols':df.columns, 'imp':m.feature_importances_}\n",
    "                       ).sort_values('imp', ascending=False)\n",
    "\n",
    "train = pd.read_csv('../raw_data/train.csv', index_col = 0)\n",
    "test = pd.read_csv('../raw_data/test.csv', index_col = 0)\n",
    "\n",
    "\n",
    "from sklearn.experimental import enable_iterative_imputer  # noqa\n",
    "from sklearn.impute import IterativeImputer\n",
    "\n",
    "it_imputer = IterativeImputer(max_iter=10)\n",
    "useful_cols = [col for col in train.columns if col not in ['id', 'song_popularity']]\n",
    "train_iterimp = it_imputer.fit_transform(train[useful_cols])\n",
    "test_iterimp = it_imputer.transform(test[useful_cols])\n",
    "\n",
    "df_train_iterimp = pd.DataFrame(train_iterimp, columns=useful_cols)\n",
    "\n",
    "X_train, X_valid, y_train, y_valid = train_test_split(df_train_iterimp, train['song_popularity'], test_size=0.2, random_state=42)"
   ]
  },
  {
   "cell_type": "markdown",
   "metadata": {},
   "source": [
    "bayes optimization of hyperparameters requires a dictionnary as input"
   ]
  },
  {
   "cell_type": "code",
   "execution_count": 2,
   "metadata": {},
   "outputs": [],
   "source": [
    "from skopt import BayesSearchCV\n",
    "\n",
    "param = {'n_estimators': (100, 500),\n",
    "         'max_features': ['auto', 'sqrt', 'log2'],\n",
    "         'max_depth': (1, 50),\n",
    "         'min_samples_split': (2, 20),\n",
    "         'min_samples_leaf': (1, 30),\n",
    "         'class_weight': ['balanced', None, 'balanced_subsample'],\n",
    "}\n",
    "\n",
    "\n",
    "# opt = BayesSearchCV(RandomForestClassifier(), param, n_iter=32, cv=5, scoring='roc_auc', random_state=42, n_jobs = 5)\n",
    "\n",
    "# opt.fit(X_train, y_train)"
   ]
  },
  {
   "cell_type": "code",
   "execution_count": 12,
   "metadata": {},
   "outputs": [
    {
     "data": {
      "text/plain": [
       "RandomForestClassifier(class_weight='balanced_subsample', max_depth=9,\n",
       "                       max_features='log2', min_samples_leaf=24,\n",
       "                       min_samples_split=11, n_estimators=138)"
      ]
     },
     "execution_count": 12,
     "metadata": {},
     "output_type": "execute_result"
    }
   ],
   "source": [
    "opt.best_estimator_"
   ]
  },
  {
   "cell_type": "code",
   "execution_count": 3,
   "metadata": {},
   "outputs": [
    {
     "name": "stdout",
     "output_type": "stream",
     "text": [
      "0.554\n",
      "AUC: 0.5690736494654849\n"
     ]
    }
   ],
   "source": [
    "# clf_bayes = opt.best_estimator_\n",
    "clf_bayes = RandomForestClassifier(n_estimators=138, max_features='log2', max_depth=9, min_samples_split=11, min_samples_leaf=24, class_weight='balanced_subsample')\n",
    "clf_bayes.fit(X_train, y_train)\n",
    "print(clf_bayes.score(X_valid, y_valid))\n",
    "LR_AUC = roc_auc_score(y_valid, clf_bayes.predict_proba(X_valid)[:,1])\n",
    "print(\"AUC: \" + str(LR_AUC))"
   ]
  },
  {
   "cell_type": "code",
   "execution_count": 15,
   "metadata": {},
   "outputs": [],
   "source": [
    "submission = pd.read_csv('../raw_data/sample_submission.csv', index_col = 0)\n",
    "useful_cols = [col for col in train.columns if col not in ['id', 'song_popularity']]\n",
    "df_test = pd.DataFrame(test_iterimp, columns=useful_cols)\n",
    "submission['song_popularity'] = clf_bayes.predict_proba(df_test[useful_cols])[:,1]\n",
    "submission.head()\n",
    "submission.to_csv('../submissions/submission_rf_balanced_subsample_bayes_opti.csv')"
   ]
  },
  {
   "cell_type": "markdown",
   "metadata": {},
   "source": [
    "Let's try to study instrumentalness."
   ]
  },
  {
   "cell_type": "code",
   "execution_count": 4,
   "metadata": {},
   "outputs": [
    {
     "data": {
      "text/plain": [
       "<seaborn.axisgrid.FacetGrid at 0x7fdbc1b9ef70>"
      ]
     },
     "execution_count": 4,
     "metadata": {},
     "output_type": "execute_result"
    },
    {
     "data": {
      "image/png": "[encoded data removed]",
      "text/plain": [
       "<Figure size 360x360 with 1 Axes>"
      ]
     },
     "metadata": {
      "needs_background": "light"
     },
     "output_type": "display_data"
    }
   ],
   "source": [
    "sns.displot(train['instrumentalness'])"
   ]
  },
  {
   "cell_type": "code",
   "execution_count": 6,
   "metadata": {},
   "outputs": [
    {
     "data": {
      "text/plain": [
       "<seaborn.axisgrid.FacetGrid at 0x7fdbb8606400>"
      ]
     },
     "execution_count": 6,
     "metadata": {},
     "output_type": "execute_result"
    },
    {
     "data": {
      "image/png": "[encoded data removed]",
      "text/plain": [
       "<Figure size 360x360 with 1 Axes>"
      ]
     },
     "metadata": {
      "needs_background": "light"
     },
     "output_type": "display_data"
    }
   ],
   "source": [
    "sns.displot(train['instrumentalness'][train['instrumentalness'] < 0.01] )"
   ]
  },
  {
   "cell_type": "markdown",
   "metadata": {},
   "source": [
    "Once restricted, this look like a Gaussian distribution"
   ]
  },
  {
   "cell_type": "code",
   "execution_count": 37,
   "metadata": {},
   "outputs": [],
   "source": [
    "df_train_iterimp['instrumentalness_v1'] = df_train_iterimp['instrumentalness'].apply(lambda x: x if x > 0.01 else -1)\n",
    "df_train_iterimp['instrumentalness_v2'] = df_train_iterimp['instrumentalness'].apply(lambda x: x if x > 0.11 else 0)\n",
    "\n",
    "X_train, X_valid, y_train, y_valid = train_test_split(df_train_iterimp, train['song_popularity'], test_size=0.2, random_state=42)"
   ]
  },
  {
   "cell_type": "code",
   "execution_count": 30,
   "metadata": {},
   "outputs": [
    {
     "data": {
      "text/plain": [
       "BayesSearchCV(cv=5, estimator=RandomForestClassifier(), n_iter=32, n_jobs=5,\n",
       "              random_state=42, scoring='roc_auc',\n",
       "              search_spaces={'class_weight': ['balanced', None,\n",
       "                                              'balanced_subsample'],\n",
       "                             'max_depth': (1, 50),\n",
       "                             'max_features': ['auto', 'sqrt', 'log2'],\n",
       "                             'min_samples_leaf': (1, 30),\n",
       "                             'min_samples_split': (2, 20),\n",
       "                             'n_estimators': (100, 500)})"
      ]
     },
     "execution_count": 30,
     "metadata": {},
     "output_type": "execute_result"
    }
   ],
   "source": [
    "opt = BayesSearchCV(RandomForestClassifier(), param, n_iter=32, cv=5, scoring='roc_auc', random_state=42, n_jobs = 5)\n",
    "\n",
    "opt.fit(X_train, y_train)"
   ]
  },
  {
   "cell_type": "code",
   "execution_count": 31,
   "metadata": {},
   "outputs": [
    {
     "data": {
      "text/plain": [
       "RandomForestClassifier(class_weight='balanced', max_depth=12,\n",
       "                       max_features='log2', min_samples_leaf=30,\n",
       "                       min_samples_split=20, n_estimators=500)"
      ]
     },
     "execution_count": 31,
     "metadata": {},
     "output_type": "execute_result"
    }
   ],
   "source": [
    "opt.best_estimator_"
   ]
  },
  {
   "cell_type": "code",
   "execution_count": 34,
   "metadata": {},
   "outputs": [],
   "source": [
    "train['instrumentalness_v1'] = train['instrumentalness'].apply(lambda x: x if x > 0.01 else -1)\n",
    "train['instrumentalness_v2'] = train['instrumentalness'].apply(lambda x: x if x > 0.11 else 0)\n",
    "\n",
    "useful_cols = [col for col in train.columns if col not in ['id', 'song_popularity']]\n",
    "train_iterimp = it_imputer.fit_transform(train[useful_cols])\n",
    "# test_iterimp = it_imputer.transform(test[useful_cols])\n",
    "df_train_iterimp = pd.DataFrame(train_iterimp, columns=useful_cols)\n",
    "\n",
    "X_train, X_valid, y_train, y_valid = train_test_split(df_train_iterimp, train['song_popularity'], test_size=0.2, random_state=42)"
   ]
  },
  {
   "cell_type": "code",
   "execution_count": 38,
   "metadata": {},
   "outputs": [
    {
     "name": "stdout",
     "output_type": "stream",
     "text": [
      "0.563125\n",
      "AUC: 0.5709947273806222\n"
     ]
    }
   ],
   "source": [
    "useful_cols = [col for col in train.columns if col not in ['id', 'song_popularity', 'instrumentalness']]\n",
    "clf_bayes = RandomForestClassifier(n_estimators=500, max_features='log2', max_depth=12, min_samples_split=20, min_samples_leaf=30, class_weight='balanced_subsample')\n",
    "clf_bayes.fit(X_train, y_train)\n",
    "print(clf_bayes.score(X_valid, y_valid))\n",
    "LR_AUC = roc_auc_score(y_valid, clf_bayes.predict_proba(X_valid)[:,1])\n",
    "print(\"AUC: \" + str(LR_AUC))"
   ]
  },
  {
   "cell_type": "code",
   "execution_count": 39,
   "metadata": {},
   "outputs": [],
   "source": [
    "submission = pd.read_csv('../raw_data/sample_submission.csv', index_col = 0)\n",
    "useful_cols = [col for col in test.columns if col not in ['id', 'song_popularity','instrumentalness_v1', 'instrumentalness_v2']]\n",
    "df_test = pd.DataFrame(test_iterimp, columns=useful_cols)\n",
    "\n",
    "useful_cols = [col for col in df_train_iterimp.columns if col not in ['id', 'song_popularity']]\n",
    "\n",
    "df_test['instrumentalness_v1'] = df_test['instrumentalness'].apply(lambda x: x if x > 0.01 else -1)\n",
    "df_test['instrumentalness_v2'] = df_test['instrumentalness'].apply(lambda x: x if x > 0.11 else 0)\n",
    "submission['song_popularity'] = clf_bayes.predict_proba(df_test[useful_cols])[:,1]\n",
    "submission.head()\n",
    "submission.to_csv('../submissions/submission_rf_balanced_subsample_new_instry.csv')"
   ]
  },
  {
   "cell_type": "code",
   "execution_count": 40,
   "metadata": {},
   "outputs": [
    {
     "data": {
      "text/plain": [
       "RandomForestClassifier(max_depth=15, max_features='log2', min_samples_leaf=30,\n",
       "                       min_samples_split=19, n_estimators=387)"
      ]
     },
     "execution_count": 40,
     "metadata": {},
     "output_type": "execute_result"
    }
   ],
   "source": [
    "opt_iterimp = BayesSearchCV(RandomForestClassifier(), param, n_iter=32, cv=5, scoring='roc_auc', random_state=42, n_jobs = 5)\n",
    "\n",
    "opt_iterimp.fit(X_train, y_train)\n",
    "opt_iterimp.best_estimator_"
   ]
  },
  {
   "cell_type": "code",
   "execution_count": 42,
   "metadata": {},
   "outputs": [
    {
     "name": "stdout",
     "output_type": "stream",
     "text": [
      "0.569875\n",
      "AUC: 0.5723502622066482\n"
     ]
    }
   ],
   "source": [
    "clf_bayes = RandomForestClassifier(n_estimators=500, max_features='log2', max_depth=15, min_samples_split=19, min_samples_leaf=30, class_weight='balanced_subsample')\n",
    "# clf_bayes = opt_iterimp.best_estimator_\n",
    "clf_bayes.fit(X_train, y_train)\n",
    "print(clf_bayes.score(X_valid, y_valid))\n",
    "LR_AUC = roc_auc_score(y_valid, clf_bayes.predict_proba(X_valid)[:,1])\n",
    "print(\"AUC: \" + str(LR_AUC))"
   ]
  },
  {
   "cell_type": "code",
   "execution_count": 43,
   "metadata": {},
   "outputs": [],
   "source": [
    "submission = pd.read_csv('../raw_data/sample_submission.csv', index_col = 0)\n",
    "\n",
    "submission['song_popularity'] = clf_bayes.predict_proba(df_test[useful_cols])[:,1]\n",
    "submission.head()\n",
    "submission.to_csv('../submissions/submission_rf_balanced_subsample_new_instru_bayes.csv')"
   ]
  },
  {
   "cell_type": "code",
   "execution_count": 2,
   "metadata": {},
   "outputs": [
    {
     "ename": "NameError",
     "evalue": "name 'X_train' is not defined",
     "output_type": "error",
     "traceback": [
      "\u001b[0;31m---------------------------------------------------------------------------\u001b[0m",
      "\u001b[0;31mNameError\u001b[0m                                 Traceback (most recent call last)",
      "\u001b[0;32m/tmp/ipykernel_409/1062445120.py\u001b[0m in \u001b[0;36m<module>\u001b[0;34m\u001b[0m\n\u001b[1;32m      3\u001b[0m \u001b[0;34m\u001b[0m\u001b[0m\n\u001b[1;32m      4\u001b[0m \u001b[0msel_\u001b[0m \u001b[0;34m=\u001b[0m \u001b[0mSelectFromModel\u001b[0m\u001b[0;34m(\u001b[0m\u001b[0mLogisticRegression\u001b[0m\u001b[0;34m(\u001b[0m\u001b[0mC\u001b[0m\u001b[0;34m=\u001b[0m\u001b[0;36m1\u001b[0m\u001b[0;34m,\u001b[0m \u001b[0mpenalty\u001b[0m\u001b[0;34m=\u001b[0m\u001b[0;34m'l1'\u001b[0m\u001b[0;34m,\u001b[0m \u001b[0msolver\u001b[0m\u001b[0;34m=\u001b[0m\u001b[0;34m'liblinear'\u001b[0m\u001b[0;34m)\u001b[0m\u001b[0;34m)\u001b[0m\u001b[0;34m\u001b[0m\u001b[0;34m\u001b[0m\u001b[0m\n\u001b[0;32m----> 5\u001b[0;31m \u001b[0msel_\u001b[0m\u001b[0;34m.\u001b[0m\u001b[0mfit\u001b[0m\u001b[0;34m(\u001b[0m\u001b[0mX_train\u001b[0m\u001b[0;34m,\u001b[0m \u001b[0my_train\u001b[0m\u001b[0;34m)\u001b[0m\u001b[0;34m\u001b[0m\u001b[0;34m\u001b[0m\u001b[0m\n\u001b[0m\u001b[1;32m      6\u001b[0m \u001b[0mselected_features\u001b[0m \u001b[0;34m=\u001b[0m \u001b[0mX_train\u001b[0m\u001b[0;34m.\u001b[0m\u001b[0mcolumns\u001b[0m\u001b[0;34m[\u001b[0m\u001b[0;34m(\u001b[0m\u001b[0msel_\u001b[0m\u001b[0;34m.\u001b[0m\u001b[0mget_support\u001b[0m\u001b[0;34m(\u001b[0m\u001b[0;34m)\u001b[0m\u001b[0;34m)\u001b[0m\u001b[0;34m]\u001b[0m\u001b[0;34m\u001b[0m\u001b[0;34m\u001b[0m\u001b[0m\n\u001b[1;32m      7\u001b[0m \u001b[0mprint\u001b[0m\u001b[0;34m(\u001b[0m\u001b[0mselected_features\u001b[0m\u001b[0;34m)\u001b[0m\u001b[0;34m\u001b[0m\u001b[0;34m\u001b[0m\u001b[0m\n",
      "\u001b[0;31mNameError\u001b[0m: name 'X_train' is not defined"
     ]
    }
   ],
   "source": []
  },
  {
   "cell_type": "code",
   "execution_count": null,
   "metadata": {},
   "outputs": [],
   "source": []
  }
 ],
 "metadata": {
  "interpreter": {
   "hash": "31f2aee4e71d21fbe5cf8b01ff0e069b9275f58929596ceb00d14d90e3e16cd6"
  },
  "kernelspec": {
   "display_name": "Python 3.8.10 64-bit",
   "language": "python",
   "name": "python3"
  },
  "language_info": {
   "codemirror_mode": {
    "name": "ipython",
    "version": 3
   },
   "file_extension": ".py",
   "mimetype": "text/x-python",
   "name": "python",
   "nbconvert_exporter": "python",
   "pygments_lexer": "ipython3",
   "version": "3.8.10"
  },
  "orig_nbformat": 4
 },
 "nbformat": 4,
 "nbformat_minor": 2
}
