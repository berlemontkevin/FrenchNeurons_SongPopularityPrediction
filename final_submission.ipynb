{
 "cells": [
  {
   "cell_type": "markdown",
   "metadata": {},
   "source": [
    "This notebook produces the Random Forest algorithm to solve the song popularity prediction challenge.\n",
    "\n",
    "The parameters have been obtained through Bayesian search. \n",
    "The missing values are replaced using an Iterative imputer.\n",
    "\n",
    "To get more insight into the data, see the file *exploratory/first_exploratory_kevin.ipynb*"
   ]
  },
  {
   "cell_type": "code",
   "execution_count": null,
   "metadata": {},
   "outputs": [],
   "source": [
    "import seaborn as sns\n",
    "import matplotlib.pyplot as plt\n",
    "import pandas as pd\n",
    "import numpy as np\n",
    "from sklearn.ensemble import RandomForestClassifier\n",
    "from sklearn.model_selection import train_test_split\n",
    "from sklearn.metrics import make_scorer, accuracy_score, roc_auc_score \n",
    "\n",
    "\n",
    "\n",
    "def rf_feat_importance(m, df):\n",
    "    return pd.DataFrame({'cols':df.columns, 'imp':m.feature_importances_}\n",
    "                       ).sort_values('imp', ascending=False)\n",
    "\n",
    "train = pd.read_csv('../raw_data/train.csv', index_col = 0)\n",
    "test = pd.read_csv('../raw_data/test.csv', index_col = 0)\n",
    "\n",
    "\n",
    "from sklearn.experimental import enable_iterative_imputer  # noqa\n",
    "from sklearn.impute import IterativeImputer\n",
    "\n",
    "it_imputer = IterativeImputer(max_iter=10)\n",
    "useful_cols = [col for col in train.columns if col not in ['id', 'song_popularity']]\n",
    "train_iterimp = it_imputer.fit_transform(train[useful_cols])\n",
    "test_iterimp = it_imputer.transform(test[useful_cols])\n",
    "\n",
    "df_train_iterimp = pd.DataFrame(train_iterimp, columns=useful_cols)\n",
    "\n",
    "X_train, X_valid, y_train, y_valid = train_test_split(df_train_iterimp, train['song_popularity'], test_size=0.2, random_state=42)"
   ]
  },
  {
   "cell_type": "code",
   "execution_count": null,
   "metadata": {},
   "outputs": [],
   "source": [
    "df_train_iterimp['instrumentalness_v1'] = df_train_iterimp['instrumentalness'].apply(lambda x: x if x > 0.01 else -1)\n",
    "df_train_iterimp['instrumentalness_v2'] = df_train_iterimp['instrumentalness'].apply(lambda x: x if x > 0.11 else 0)\n",
    "\n",
    "X_train, X_valid, y_train, y_valid = train_test_split(df_train_iterimp, train['song_popularity'], test_size=0.2, random_state=42)"
   ]
  },
  {
   "cell_type": "code",
   "execution_count": null,
   "metadata": {},
   "outputs": [],
   "source": [
    "\n",
    "useful_cols = [col for col in train.columns if col not in ['id', 'song_popularity']]\n",
    "train_iterimp = it_imputer.fit_transform(train[useful_cols])\n",
    "# test_iterimp = it_imputer.transform(test[useful_cols])\n",
    "df_train_iterimp = pd.DataFrame(train_iterimp, columns=useful_cols)\n",
    "\n",
    "X_train, X_valid, y_train, y_valid = train_test_split(df_train_iterimp, train['song_popularity'], test_size=0.2, random_state=42)"
   ]
  },
  {
   "cell_type": "code",
   "execution_count": null,
   "metadata": {},
   "outputs": [],
   "source": [
    "useful_cols = [col for col in train.columns if col not in ['id', 'song_popularity', 'instrumentalness']]\n",
    "clf_bayes = RandomForestClassifier(n_estimators=500, max_features='log2', max_depth=12, min_samples_split=20, min_samples_leaf=30, class_weight='balanced_subsample')\n",
    "clf_bayes.fit(X_train, y_train)\n",
    "print(clf_bayes.score(X_valid, y_valid))\n",
    "LR_AUC = roc_auc_score(y_valid, clf_bayes.predict_proba(X_valid)[:,1])\n",
    "print(\"AUC: \" + str(LR_AUC))"
   ]
  },
  {
   "cell_type": "code",
   "execution_count": null,
   "metadata": {},
   "outputs": [],
   "source": [
    "submission = pd.read_csv('../raw_data/sample_submission.csv', index_col = 0)\n",
    "useful_cols = [col for col in test.columns if col not in ['id', 'song_popularity','instrumentalness_v1', 'instrumentalness_v2']]\n",
    "df_test = pd.DataFrame(test_iterimp, columns=useful_cols)\n",
    "\n",
    "useful_cols = [col for col in df_train_iterimp.columns if col not in ['id', 'song_popularity']]\n",
    "\n",
    "df_test['instrumentalness_v1'] = df_test['instrumentalness'].apply(lambda x: x if x > 0.01 else -1)\n",
    "df_test['instrumentalness_v2'] = df_test['instrumentalness'].apply(lambda x: x if x > 0.11 else 0)\n",
    "submission['song_popularity'] = clf_bayes.predict_proba(df_test[useful_cols])[:,1]\n",
    "submission.head()\n",
    "submission.to_csv('../submissions/submission_rf_balanced_subsample_new_instry.csv')"
   ]
  }
 ],
 "metadata": {
  "language_info": {
   "name": "python"
  },
  "orig_nbformat": 4
 },
 "nbformat": 4,
 "nbformat_minor": 2
}
